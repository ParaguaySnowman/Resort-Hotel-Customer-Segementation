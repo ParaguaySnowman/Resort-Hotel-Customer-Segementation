{
 "cells": [
  {
   "cell_type": "markdown",
   "metadata": {},
   "source": [
    "<center>\n",
    "    \n",
    "## Unsupervised Learning Capstone Project\n",
    "\n",
    "# Booking Cancellation Analysis at a Major Resort Hotel\n",
    "\n",
    " ### by Parker Mortensen\n",
    " \n",
    " ##### in partial fulfillment of the requirements of the Data Science Program from Thinkful\n",
    " \n",
    " <center>"
   ]
  },
  {
   "cell_type": "markdown",
   "metadata": {
    "slideshow": {
     "slide_type": "slide"
    }
   },
   "source": [
    "<center>\n",
    "    \n",
    "## Research Questions:\n",
    "\n",
    "# Can I predict if a singular booking will cancel based on the information provided at booking?\n",
    "\n",
    "# Can I provide meaningful insight on what sets canceled bookings apart from bookings that are not canceled?\n",
    "</center>"
   ]
  },
  {
   "cell_type": "markdown",
   "metadata": {},
   "source": [
    "## INTRODUCTION TO THE HOTEL BOOKINGS DATASET\n",
    "\n",
    "The dataset was obtained from Kaggle: https://www.kaggle.com/jessemostipak/hotel-booking-demand\n",
    "\n",
    "The original data was provided by Nuno Antonio and Ana de Almeida and is located here: https://www.sciencedirect.com/science/article/pii/S2352340918315191?via%3Dihub\n",
    "\n",
    "The exact provenance of the data is not provided, however the authors indicate that it is real world data.\n",
    "\n",
    "The data is of fulfilled and cancelled hotel bookings between July 2015 and August 2017. It includes arrival time, length of stay, number in party, country of provenance, and other customer marketing and demographic information."
   ]
  },
  {
   "cell_type": "markdown",
   "metadata": {},
   "source": [
    "##### Data column definitions"
   ]
  },
  {
   "cell_type": "markdown",
   "metadata": {},
   "source": [
    "<b>Data column definitions:</b>\n",
    "\n",
    "\n",
    "<b>is_canceled: Value indicating if the booking was canceled (1) or not (0)</b>\n",
    "\n",
    "    This is our target variable for the models. I chose a model to predict if bookings would cancel because I believe it would be a very valuable to know in order to plan how reservations could be accepted without worrying about overbooking, and to better forecast cash flows based on booking volume.\n",
    "    \n",
    "\n",
    "<b>lead_time: Number of days that elapsed between the entering date of the booking into the PMS and the arrival date.</b>\n",
    "\n",
    "    How long before arrival was the booking made?\n",
    "    \n",
    "<b>\n",
    "arrival_date_year: Year of arrival date\n",
    "arrival_date_month: Month of arrival date\n",
    "arrival_date_week_number: Week number of year for arrival date\n",
    "arrival_date_day_of_month: Day of arrival date</b>\n",
    "\n",
    "    For what date was the booking made?\n",
    "    \n",
    "\n",
    "<b>stays_in_weekend_nights: Number of weekend nights (Saturday or Sunday) the guest stayed or booked to stay at the hotel\n",
    "stays_in_week_nights: Number of week nights (Monday to Friday) the guest stayed or booked to stay at the hotel</b>\n",
    "\n",
    "\n",
    "    How long did the client intend to stay?\n",
    "<b>\n",
    "adults: Number of adults\n",
    "children: Number of children\n",
    "babies: Number of babies</b>\n",
    "\n",
    "    For how many people was the booking made?\n",
    "    \n",
    "<b>\n",
    "meal: Type of meal booked. Categories are presented in standard hospitality meal packages: Undefined/SC – no meal package; BB – Bed & Breakfast; HB – Half board (breakfast and one other meal – usually dinner); FB – Full board (breakfast, lunch and dinner)</b>\n",
    "\n",
    "    The meal package that the customer puchased\n",
    "\n",
    "    \n",
    "<b>country: Country of origin. Categories are represented in the ISO 3155–3:2013 format</b>\n",
    "\n",
    "    What country are they from?\n",
    "    \n",
    "\n",
    "<b>market_segment: Market segment designation. In categories, the term “TA” means “Travel Agents” and “TO” means “Tour Operators”\n",
    "distribution_channel: Booking distribution channel. The term “TA” means “Travel Agents” and “TO” means “Tour Operators”</b>\n",
    "\n",
    "    These columns refer to what industry and marketing channel the customer was sold from.\n",
    "    \n",
    "\n",
    "<b>is_repeated_guest: Value indicating if the booking name was from a repeated guest (1) or not (0)</b>\n",
    "\n",
    "    Has the customer stayed at the hotel before?\n",
    "    \n",
    "<b>\n",
    "previous_cancellations: Number of previous bookings that were cancelled by the customer prior to the current booking\n",
    "previous_bookings_not_canceled: Number of previous bookings not cancelled by the customer prior to the current booking</b>\n",
    "\n",
    "    How many previous bookings has the customer made and canceled or not canceled?\n",
    "\n",
    "<b>\n",
    "reserved_room_type: Code of room type reserved. Code is presented instead of designation for anonymity reasons.\n",
    "assigned_room_type: Code for the type of room assigned to the booking. Sometimes the assigned room type differs from the reserved room type due to hotel operation reasons (e.g. overbooking) or by customer request. Code is presented instead of designation for anonymity reasons.</b>\n",
    "\n",
    "    What kind of room did the customer book?\n",
    "\n",
    "\n",
    "<b>booking_changes: Number of changes/amendments made to the booking from the moment the booking was entered on the PMS until the moment of check-in or cancellation.</b>\n",
    "\n",
    "    How many times did the customer change the bookign?\n",
    "\n",
    "<b>\n",
    "deposit_type: Indication on if the customer made a deposit to guarantee the booking. This variable can assume three categories: No Deposit – no deposit was made; Non Refund – a deposit was made in the value of the total stay cost; Refundable – a deposit was made with a value under the total cost of stay.</b>\n",
    "\n",
    "    Did the customer make a deposit? Was it non-refundable?\n",
    "\n",
    "\n",
    "<b>agent: ID of the travel agency that made the booking</b>\n",
    "\n",
    "    Did a travel agent make the booking? Which one?\n",
    "    \n",
    "<b>\n",
    "company: ID of the company/entity that made the booking or responsible for paying the booking. ID is presented instead of designation for anonymity reasons</b>\n",
    "\n",
    "    Is the customer traveling on business? For which company?\n",
    "\n",
    "<b>\n",
    "days_in_waiting_list: Number of days the booking was in the waiting list before it was confirmed to the customer</b>\n",
    "\n",
    "    Was the booking on the waiting list? For how long?\n",
    "\n",
    "\n",
    "<b>customer_type: Type of booking, assuming one of four categories:\n",
    "\n",
    "Contract - when the booking has an allotment or other type of contract associated to it; Group – when the booking is associated to a group;\n",
    "    \n",
    "Transient – when the booking is not part of a group or contract, and is not associated to other transient booking; \n",
    "\n",
    "Transient-party – when the booking is transient, but is associated to at least other transient booking</b>\n",
    "\n",
    "    Is is a group reservation?\n",
    "<b>\n",
    "adr: Average Daily Rate as defined by dividing the sum of all lodging transactions by the total number of staying nights</b>\n",
    "\n",
    "    How much did they pay per night?\n",
    "\n",
    "</b>\n",
    "required_car_parking_spaces: Number of car parking spaces required by the customer</b>\n",
    "\n",
    "    How much parking was needed?\n",
    "\n",
    "<b>\n",
    "total_of_special_requests: Number of special requests made by the customer (e.g. twin bed or high floor)</b>\n",
    "\n",
    "    How many special request did the customer make?\n",
    "    \n",
    "<b>\n",
    "reservation_status: Reservation last status, assuming one of three categories: Canceled – booking was canceled by the customer; Check-Out – customer has checked in but already departed; No-Show – customer did not check-in and did inform the hotel of the reason why</b>\n",
    "\n",
    "    How was the booking closed?\n",
    "\n",
    "<b>\n",
    "reservation_status_date: Date at which the last status was set. This variable can be used in conjunction with the ReservationStatus to understand when was the booking canceled or when did the customer checked-out of the hotel<b>\n",
    "    \n",
    "    When was the booking canceled or fulfilled?"
   ]
  },
  {
   "cell_type": "markdown",
   "metadata": {},
   "source": [
    "# Exploratory Data Analysis"
   ]
  },
  {
   "cell_type": "code",
   "execution_count": 1,
   "metadata": {},
   "outputs": [],
   "source": [
    "#Importing libraries and data:\n",
    "\n",
    "import pandas as pd\n",
    "import numpy as np\n",
    "import matplotlib.pyplot as plt\n",
    "\n",
    "import warnings\n",
    "warnings.filterwarnings('ignore')"
   ]
  },
  {
   "cell_type": "code",
   "execution_count": 2,
   "metadata": {},
   "outputs": [],
   "source": [
    "#Import to dataframe\n",
    "df = pd.read_csv('hotel_bookings.csv')\n",
    "\n",
    "#There are two hotels in the data set.\n",
    "#For increased model accuracy and applicability, I will examine only the Resort Hotel.\n",
    "df = df[df['hotel'] == 'Resort Hotel']"
   ]
  },
  {
   "cell_type": "code",
   "execution_count": 3,
   "metadata": {},
   "outputs": [
    {
     "name": "stdout",
     "output_type": "stream",
     "text": [
      "<class 'pandas.core.frame.DataFrame'>\n",
      "Int64Index: 40060 entries, 0 to 40059\n",
      "Data columns (total 32 columns):\n",
      "hotel                             40060 non-null object\n",
      "is_canceled                       40060 non-null int64\n",
      "lead_time                         40060 non-null int64\n",
      "arrival_date_year                 40060 non-null int64\n",
      "arrival_date_month                40060 non-null object\n",
      "arrival_date_week_number          40060 non-null int64\n",
      "arrival_date_day_of_month         40060 non-null int64\n",
      "stays_in_weekend_nights           40060 non-null int64\n",
      "stays_in_week_nights              40060 non-null int64\n",
      "adults                            40060 non-null int64\n",
      "children                          40060 non-null float64\n",
      "babies                            40060 non-null int64\n",
      "meal                              40060 non-null object\n",
      "country                           39596 non-null object\n",
      "market_segment                    40060 non-null object\n",
      "distribution_channel              40060 non-null object\n",
      "is_repeated_guest                 40060 non-null int64\n",
      "previous_cancellations            40060 non-null int64\n",
      "previous_bookings_not_canceled    40060 non-null int64\n",
      "reserved_room_type                40060 non-null object\n",
      "assigned_room_type                40060 non-null object\n",
      "booking_changes                   40060 non-null int64\n",
      "deposit_type                      40060 non-null object\n",
      "agent                             31851 non-null float64\n",
      "company                           3108 non-null float64\n",
      "days_in_waiting_list              40060 non-null int64\n",
      "customer_type                     40060 non-null object\n",
      "adr                               40060 non-null float64\n",
      "required_car_parking_spaces       40060 non-null int64\n",
      "total_of_special_requests         40060 non-null int64\n",
      "reservation_status                40060 non-null object\n",
      "reservation_status_date           40060 non-null object\n",
      "dtypes: float64(4), int64(16), object(12)\n",
      "memory usage: 8.3+ MB\n",
      "None\n"
     ]
    }
   ],
   "source": [
    "#See data types and column names\n",
    "print(df.info())"
   ]
  },
  {
   "cell_type": "markdown",
   "metadata": {},
   "source": [
    "## EDA: Missing Values"
   ]
  },
  {
   "cell_type": "markdown",
   "metadata": {},
   "source": [
    "The only columns missing data are country, agent, and company."
   ]
  },
  {
   "cell_type": "code",
   "execution_count": 13,
   "metadata": {},
   "outputs": [
    {
     "data": {
      "text/plain": [
       "count    28519.000000\n",
       "mean        79.694695\n",
       "std         93.294498\n",
       "min          0.000000\n",
       "25%          6.000000\n",
       "50%         39.000000\n",
       "75%        132.000000\n",
       "max        737.000000\n",
       "Name: lead_time, dtype: float64"
      ]
     },
     "execution_count": 13,
     "metadata": {},
     "output_type": "execute_result"
    }
   ],
   "source": [
    "df[df['is_canceled']==0]['lead_time'].describe()"
   ]
  },
  {
   "cell_type": "code",
   "execution_count": 15,
   "metadata": {},
   "outputs": [
    {
     "ename": "TypeError",
     "evalue": "'>' not supported between instances of 'list' and 'int'",
     "output_type": "error",
     "traceback": [
      "\u001b[1;31m---------------------------------------------------------------------------\u001b[0m",
      "\u001b[1;31mTypeError\u001b[0m                                 Traceback (most recent call last)",
      "\u001b[1;32m<ipython-input-15-dc6e47022356>\u001b[0m in \u001b[0;36m<module>\u001b[1;34m\u001b[0m\n\u001b[1;32m----> 1\u001b[1;33m \u001b[0mdf\u001b[0m\u001b[1;33m[\u001b[0m\u001b[0mdf\u001b[0m\u001b[1;33m[\u001b[0m\u001b[1;34m'is_canceled'\u001b[0m\u001b[1;33m]\u001b[0m\u001b[1;33m==\u001b[0m\u001b[1;36m1\u001b[0m\u001b[1;33m]\u001b[0m\u001b[1;33m[\u001b[0m\u001b[1;33m[\u001b[0m\u001b[1;34m'lead_time'\u001b[0m\u001b[1;33m]\u001b[0m\u001b[1;33m>\u001b[0m\u001b[1;36m14\u001b[0m\u001b[1;33m]\u001b[0m\u001b[1;33m\u001b[0m\u001b[1;33m\u001b[0m\u001b[0m\n\u001b[0m",
      "\u001b[1;31mTypeError\u001b[0m: '>' not supported between instances of 'list' and 'int'"
     ]
    }
   ],
   "source": [
    "df[df['is_canceled']==1][['lead_time']>14]"
   ]
  },
  {
   "cell_type": "markdown",
   "metadata": {},
   "source": [
    "### Country\n",
    "\n",
    "For country, almost all rows are populated (39596/40060 = 98.84%), since no reasonable replacement value can be deduced from examining the data, and since so little data is missing, these rows can be dropped."
   ]
  },
  {
   "cell_type": "code",
   "execution_count": 4,
   "metadata": {},
   "outputs": [
    {
     "name": "stdout",
     "output_type": "stream",
     "text": [
      "Series([], Name: country, dtype: object)\n"
     ]
    }
   ],
   "source": [
    "#Drop rows missing country data.\n",
    "df = df.dropna(subset=['country'])\n",
    "\n",
    "#Verify\n",
    "print(df['country'][df['country'].isna()].head(1))\n",
    "\n",
    "#Reset index for later dimensionality reduction algorithms.\n",
    "df = df.reset_index()"
   ]
  },
  {
   "cell_type": "markdown",
   "metadata": {},
   "source": [
    "### Agent\n",
    "\n",
    "For agent, a missing value has meaning: the customer made the booking directly instead of via a travel agency. At (103050/119390 = 86.3%) of the data present, this column is more of a concern that country. \n",
    "\n",
    "Since there is not a more reasonable assumption to make than that it means the customer booked without an agent, I will replace the missing values with a code to indicate this.\n",
    "\n",
    "This will allow me to treat the missing values as a group.\n",
    "\n",
    "I will also add a new feature which will directly indicate whether or not the booking was made by an agent."
   ]
  },
  {
   "cell_type": "code",
   "execution_count": 5,
   "metadata": {},
   "outputs": [
    {
     "name": "stdout",
     "output_type": "stream",
     "text": [
      "max: 535.0\n",
      "min: 1.0\n",
      "0    False\n",
      "Name: agent, dtype: bool\n"
     ]
    }
   ],
   "source": [
    "#AGENT: fill missing values with placeholder for self-booking\n",
    "\n",
    "#Decide on placeholder value\n",
    "print('max:', df.agent.max())\n",
    "print('min:', df.agent.min())\n",
    "\n",
    "#The placeholder for self-booking will be the max value plus one: 536\n",
    "\n",
    "#Fill\n",
    "df['agent'] = df['agent'].fillna(536.0)\n",
    "\n",
    "#Verify\n",
    "print(df['agent'].isna().head(1))\n",
    "\n",
    "#New derived feature\n",
    "df['self_booked'] = df['agent'] != 536.0"
   ]
  },
  {
   "cell_type": "markdown",
   "metadata": {},
   "source": [
    "### Company\n",
    "For company, missing data also has meaning: the customer was not travelling for business, or that the trip was not paid for by a business.\n",
    "\n",
    "With around 5% of the data missing, we could have some potentially significant consequences on the model if we don't distinguidsh between business and non-business customers\n",
    "\n",
    "As with agent, a placeholder will be used to indicate non-business bookings, which will allow us to examine them as a group."
   ]
  },
  {
   "cell_type": "code",
   "execution_count": 6,
   "metadata": {},
   "outputs": [
    {
     "name": "stdout",
     "output_type": "stream",
     "text": [
      "max: 543.0\n",
      "min: 6.0\n",
      "0    False\n",
      "Name: company, dtype: bool\n"
     ]
    }
   ],
   "source": [
    "#COMPANY: fill missing values with placeholder for no company\n",
    "print('max:', df.company.max())\n",
    "print('min:', df.company.min())\n",
    "\n",
    "#There is no company id \"1\", we can use that as our placeholder\n",
    "\n",
    "#Fill\n",
    "df['company'] = df['company'].fillna(5.0)\n",
    "\n",
    "#Verify\n",
    "print(df['company'].isna().head(1))\n",
    "\n",
    "#New derived feature\n",
    "df['on_business'] = df['company'] != 5.0"
   ]
  },
  {
   "cell_type": "markdown",
   "metadata": {},
   "source": [
    "## EDA: Univariate Analysis"
   ]
  },
  {
   "cell_type": "markdown",
   "metadata": {},
   "source": [
    "### Cancellation Frequency\n",
    "\n",
    "More bookings are kept than are canceled, but 28% of all bookings are canceled.\n",
    "\n",
    "A very small portion of the cancellations are no-shows, less than 1%, I will treat cancellation as binary and use the is_cancelled column only."
   ]
  },
  {
   "cell_type": "code",
   "execution_count": 7,
   "metadata": {},
   "outputs": [
    {
     "name": "stdout",
     "output_type": "stream",
     "text": [
      "Check-Out    28519\n",
      "Canceled     10790\n",
      "No-Show        287\n",
      "Name: reservation_status, dtype: int64\n"
     ]
    },
    {
     "data": {
      "image/png": "[encoded data removed]",
      "text/plain": [
       "<Figure size 432x288 with 1 Axes>"
      ]
     },
     "metadata": {},
     "output_type": "display_data"
    }
   ],
   "source": [
    "#More bookings are kept than are canceled, but 28% of all bookings are canceled!\n",
    "\n",
    "print(df.reservation_status.value_counts())\n",
    "\n",
    "#Only 291 of the reported cancellations were no-shows, 291/40060 = 0.73%\n",
    "\n",
    "#Plot\n",
    "df.reservation_status.groupby(df.reservation_status).value_counts().plot(kind='pie',labels=['Canceled','Check-Out','No-Show'])\n",
    "plt.axis('equal')\n",
    "plt.title('Reservation_Status')\n",
    "plt.show()\n",
    "\n",
    "#Drop unused column\n",
    "df = df.drop(columns=['reservation_status'])"
   ]
  },
  {
   "cell_type": "markdown",
   "metadata": {},
   "source": [
    "### Lead Time\n",
    "\n",
    "The 'elbow' in the frequency of various booking lead times occurs at around 1 1/2 weeks when aggreagated by week, and at 2 days when aggregated by day. There is a pronounced bump at 7 days. "
   ]
  },
  {
   "cell_type": "code",
   "execution_count": 8,
   "metadata": {
    "scrolled": true
   },
   "outputs": [
    {
     "data": {
      "image/png": "[encoded data removed]",
      "text/plain": [
       "<Figure size 432x288 with 1 Axes>"
      ]
     },
     "metadata": {
      "needs_background": "light"
     },
     "output_type": "display_data"
    },
    {
     "data": {
      "image/png": "[encoded data removed]",
      "text/plain": [
       "<Figure size 432x288 with 1 Axes>"
      ]
     },
     "metadata": {
      "needs_background": "light"
     },
     "output_type": "display_data"
    },
    {
     "name": "stdout",
     "output_type": "stream",
     "text": [
      "0     8077\n",
      "1     2671\n",
      "2     1885\n",
      "3     1680\n",
      "4     1520\n",
      "5     1426\n",
      "6     1180\n",
      "7      956\n",
      "11     926\n",
      "8      895\n",
      "Name: lead_time, dtype: int64\n"
     ]
    },
    {
     "data": {
      "image/png": "[encoded data removed]",
      "text/plain": [
       "<Figure size 432x288 with 1 Axes>"
      ]
     },
     "metadata": {
      "needs_background": "light"
     },
     "output_type": "display_data"
    },
    {
     "name": "stdout",
     "output_type": "stream",
     "text": [
      "0     3122\n",
      "1     1531\n",
      "2      904\n",
      "3      780\n",
      "4      645\n",
      "5      580\n",
      "7      552\n",
      "6      515\n",
      "10     388\n",
      "11     378\n",
      "8      375\n",
      "9      361\n",
      "12     338\n",
      "14     300\n",
      "13     279\n",
      "Name: lead_time, dtype: int64\n"
     ]
    },
    {
     "data": {
      "image/png": "[encoded data removed]",
      "text/plain": [
       "<Figure size 432x288 with 1 Axes>"
      ]
     },
     "metadata": {
      "needs_background": "light"
     },
     "output_type": "display_data"
    }
   ],
   "source": [
    "#Plot\n",
    "#Lead time in days\n",
    "plt.hist(df['lead_time'])\n",
    "plt.show()\n",
    "\n",
    "#Lead time in weeks\n",
    "plt.hist(df['lead_time']/7)\n",
    "plt.show()\n",
    "\n",
    "#Lead time frequencies\n",
    "lead_time_in_weeks = df['lead_time'] // 7\n",
    "print(lead_time_in_weeks.value_counts().head(10))\n",
    "\n",
    "lead_x = [0,1,2,3,4,5,6,7,11,8]\n",
    "lead_y = [8077,2671,1885,1680,1520,1426,1180,956,926,895]\n",
    "plt.scatter(lead_x,lead_y)\n",
    "plt.show()\n",
    "\n",
    "print(df['lead_time'][df['lead_time'] <=14].value_counts())\n",
    "lead_x2 = [0,1,2,3,4,5,7,6,10,11,8,9,12,14,13]\n",
    "lead_y2 = [3122,1531,904,780,645,580,552,515,388,378,375,361,338,300,279]\n",
    "plt.scatter(lead_x2,lead_y2)\n",
    "plt.show()"
   ]
  },
  {
   "cell_type": "markdown",
   "metadata": {},
   "source": [
    "### Arrival Date\n",
    "\n",
    "Seasonal trends are shown in the plots below. Arrival date by week number is the best, but is still quite noisy.\n",
    "\n",
    "Overall, with only 2 years and 2 months of data from only one hotel, I think It would be unwise to choose the arrival date for our model.\n",
    "\n",
    "These will be dropped."
   ]
  },
  {
   "cell_type": "markdown",
   "metadata": {},
   "source": [
    "##### Arrival Date data manipulation"
   ]
  },
  {
   "cell_type": "code",
   "execution_count": null,
   "metadata": {},
   "outputs": [],
   "source": [
    "#A standardized datetime object will be needed for some analysis\n",
    "\n",
    "#import library\n",
    "from datetime import datetime\n",
    "from datetime import date\n",
    "import calendar"
   ]
  },
  {
   "cell_type": "code",
   "execution_count": null,
   "metadata": {},
   "outputs": [],
   "source": [
    "#numerize month\n",
    "name_to_num = {name: num for num, name in enumerate(calendar.month_name) if num}\n",
    "df['arrival_date_month'] = df['arrival_date_month'].map(name_to_num)"
   ]
  },
  {
   "cell_type": "code",
   "execution_count": null,
   "metadata": {},
   "outputs": [],
   "source": [
    "#check\n",
    "print(df['arrival_date_month'].isna().unique())\n",
    "print(df['arrival_date_month'].max())\n",
    "print(df['arrival_date_month'].min())"
   ]
  },
  {
   "cell_type": "code",
   "execution_count": null,
   "metadata": {},
   "outputs": [],
   "source": [
    "#create column of datetime objects\n",
    "df['arrival_date'] = df.apply(lambda row: datetime.strptime(f\"{int(row.arrival_date_year)}-{int(row.arrival_date_month)}-{int(row.arrival_date_day_of_month)}\", '%Y-%m-%d').date(), axis=1)"
   ]
  },
  {
   "cell_type": "markdown",
   "metadata": {},
   "source": [
    "#### Year"
   ]
  },
  {
   "cell_type": "code",
   "execution_count": null,
   "metadata": {
    "scrolled": true
   },
   "outputs": [],
   "source": [
    "#booking counts by year\n",
    "print(df.arrival_date_year.value_counts(), '\\n')\n",
    "\n",
    "#check for partial years\n",
    "print(\"First recorded date is:\", df.arrival_date.max())\n",
    "print(\"Last recorded date is:\", df.arrival_date.min())"
   ]
  },
  {
   "cell_type": "markdown",
   "metadata": {},
   "source": [
    "#### Month"
   ]
  },
  {
   "cell_type": "code",
   "execution_count": null,
   "metadata": {
    "scrolled": true
   },
   "outputs": [],
   "source": [
    "#for countplots, import seaborn\n",
    "import seaborn as sns\n",
    "\n",
    "#We need to adjust the data to not count July and August and extra time compared to the other months\n",
    "#(because of 2 years + 2 months data)\n",
    "date1 = date(2015,9,1)\n",
    "date2 = date(2017,7,1)\n",
    "\n",
    "#Two ways to cut our years\n",
    "wo_first_two = pd.DataFrame(df[df['arrival_date'] >= date1])\n",
    "wo_last_two = pd.DataFrame(df[df['arrival_date'] < date2])\n",
    "\n",
    "#Without first two months\n",
    "sns.countplot(y='arrival_date_month', data=wo_first_two)\n",
    "plt.show()\n",
    "\n",
    "#Without last two months\n",
    "sns.countplot(y='arrival_date_month', data=wo_last_two)\n",
    "plt.show()"
   ]
  },
  {
   "cell_type": "markdown",
   "metadata": {},
   "source": [
    "#### Week"
   ]
  },
  {
   "cell_type": "code",
   "execution_count": null,
   "metadata": {},
   "outputs": [],
   "source": [
    "#Arrival Date by Week\n",
    "\n",
    "#Create a string to set the order of rows in plot:\n",
    "week_order = np.arange(1,53)\n",
    "   \n",
    "#cast to string to permit ordering\n",
    "df.arrival_date_week_number = df.arrival_date_week_number.astype(str)\n",
    "\n",
    "#plot\n",
    "plt.figure(figsize=(16,6))\n",
    "sns.countplot(x='arrival_date_week_number', data=wo_first_two, order=week_order)\n",
    "plt.show()\n",
    "\n",
    "plt.figure(figsize=(16,6))\n",
    "sns.countplot(x='arrival_date_week_number', data=wo_last_two, order=week_order)\n",
    "plt.show()\n",
    "\n",
    "#There is a discernible trend in bookings by week, but the data is quite variable, leading to\n",
    "#a lower correlation. I don't think arrival date will be a very good metric for the model."
   ]
  },
  {
   "cell_type": "markdown",
   "metadata": {},
   "source": [
    "#### Day of Month"
   ]
  },
  {
   "cell_type": "code",
   "execution_count": null,
   "metadata": {},
   "outputs": [],
   "source": [
    "#Arrival Date by day of month\n",
    "\n",
    "df.arrival_date_day_of_month.value_counts()\n",
    "\n",
    "#There does not seem to be a discernbilbe pattern here."
   ]
  },
  {
   "cell_type": "markdown",
   "metadata": {},
   "source": [
    "##### Arrival Date cleanup"
   ]
  },
  {
   "cell_type": "code",
   "execution_count": null,
   "metadata": {},
   "outputs": [],
   "source": [
    "#df = df.drop(columns=['arrival_date_year','arrival_date_month','arrival_date_week_number','arrival_date_year','arrival_date_day_of_month'])"
   ]
  },
  {
   "cell_type": "markdown",
   "metadata": {},
   "source": [
    "### Length of Stay\n",
    "\n",
    "The most comman length of stay is two to four days. One-day and week-long stays are also very popular. The median length of stay is 4 days."
   ]
  },
  {
   "cell_type": "markdown",
   "metadata": {},
   "source": [
    "#### Total Length of Stay"
   ]
  },
  {
   "cell_type": "code",
   "execution_count": null,
   "metadata": {},
   "outputs": [],
   "source": [
    "#Get total length of stay\n",
    "df['length_of_stay'] = df.stays_in_weekend_nights + df.stays_in_week_nights\n",
    "\n",
    "df.length_of_stay.median()"
   ]
  },
  {
   "cell_type": "code",
   "execution_count": null,
   "metadata": {
    "scrolled": true
   },
   "outputs": [],
   "source": [
    "plt.hist(df.length_of_stay)\n",
    "plt.show()\n",
    "\n",
    "print(df.length_of_stay.value_counts().head(17))\n",
    "\n",
    "plt.hist(df['length_of_stay'][df['length_of_stay'] <= 14])"
   ]
  },
  {
   "cell_type": "markdown",
   "metadata": {},
   "source": [
    "#### Weekends"
   ]
  },
  {
   "cell_type": "code",
   "execution_count": null,
   "metadata": {},
   "outputs": [],
   "source": [
    "plt.hist(df.stays_in_weekend_nights)\n",
    "plt.show()\n",
    "\n",
    "plt.hist(df['stays_in_weekend_nights'][df['stays_in_weekend_nights'] <= 6])\n",
    "plt.show()"
   ]
  },
  {
   "cell_type": "markdown",
   "metadata": {},
   "source": [
    "#### Weekdays"
   ]
  },
  {
   "cell_type": "code",
   "execution_count": null,
   "metadata": {
    "scrolled": true
   },
   "outputs": [],
   "source": [
    "plt.hist(df.stays_in_week_nights)\n",
    "plt.show()\n",
    "\n",
    "plt.hist(df['stays_in_weekend_nights'][df['stays_in_weekend_nights'] <= 10])\n",
    "plt.show()"
   ]
  },
  {
   "cell_type": "markdown",
   "metadata": {},
   "source": [
    "### Party Size\n",
    "\n",
    "The majority of bookings were for two adults, with samller numbers of 1, 3, and 4 person parties"
   ]
  },
  {
   "cell_type": "markdown",
   "metadata": {},
   "source": [
    "#### Total number in party"
   ]
  },
  {
   "cell_type": "code",
   "execution_count": null,
   "metadata": {},
   "outputs": [],
   "source": [
    "df['party_size'] = df.adults + df.children + df.babies\n",
    "print(df.party_size.head(10))\n",
    "plt.hist(df.party_size)\n",
    "plt.show()\n",
    "plt.hist(df['party_size'][df['party_size'] < 6])\n",
    "plt.show()"
   ]
  },
  {
   "cell_type": "markdown",
   "metadata": {},
   "source": [
    "### Meal\n",
    "\n",
    "By far, the most popular meal package is Bed and Breakfast."
   ]
  },
  {
   "cell_type": "code",
   "execution_count": null,
   "metadata": {},
   "outputs": [],
   "source": [
    "#There is a problem with meal in that 'SC' and 'Undefined' both mean the same thing: no meals.\n",
    "\n",
    "df.meal.unique()\n",
    "\n",
    "meal_df = pd.DataFrame(df['meal'])\n",
    "meal_df = meal_df.replace('Undefined','SC')\n",
    "df.meal = meal_df.meal\n",
    "\n",
    "df.meal.unique()\n",
    "\n",
    "#As above, meal is categorical, we will make it numerical\n",
    "\n",
    "meal_df = pd.DataFrame(df[['is_canceled','meal']].groupby('meal', as_index=False).agg('mean'))\n",
    "meal_df = meal_df.rename(index=str, columns={\"is_canceled\": \"meal_score\"})\n",
    "df = pd.merge(df,meal_df,how='left',on=['meal'])\n",
    "\n",
    "print(df.meal.value_counts())\n",
    "\n",
    "df.meal.value_counts().plot(kind='pie')\n",
    "plt.axis('equal')\n",
    "plt.title('Meal Package')\n",
    "plt.show()\n"
   ]
  },
  {
   "cell_type": "markdown",
   "metadata": {},
   "source": [
    "### Country\n",
    "\n",
    "The most frequent countries of origin in this dataset were Portugaal (44.5%), Great Britain (17.1%), Spain (9.9%), Ireland (5.4%), France (4%), and Germany (3%), all other countries composted the remaining 16.1%"
   ]
  },
  {
   "cell_type": "code",
   "execution_count": null,
   "metadata": {},
   "outputs": [],
   "source": [
    "print(df.country.value_counts().head(10))\n",
    "\n",
    "major_countries = ['PRT','GBR','ESP','IRL','FRA','DEU']\n",
    "\n",
    "df['adj_country'] = df['country']\n",
    "df['adj_country'] = df['adj_country'].where(df['adj_country'].isin(major_countries), 'Other')"
   ]
  },
  {
   "cell_type": "code",
   "execution_count": null,
   "metadata": {},
   "outputs": [],
   "source": [
    "df.adj_country.value_counts().plot(kind='pie')\n",
    "plt.axis('equal')\n",
    "plt.title('Country')\n",
    "plt.show()"
   ]
  },
  {
   "cell_type": "markdown",
   "metadata": {},
   "source": [
    "### Market Segment\n",
    "\n",
    "Business at this hotel is mostly associated with Travel Agents, 44% of the bookings came from online travel agents and 18.6% came from offline travel agents and tour operators. Direct mailing, group marketing, and corporate marketing composed significant portions as well."
   ]
  },
  {
   "cell_type": "code",
   "execution_count": null,
   "metadata": {},
   "outputs": [],
   "source": [
    "print(df.market_segment.value_counts())\n",
    "\n",
    "df.market_segment.value_counts().plot(kind='pie')\n",
    "plt.axis('equal')\n",
    "plt.title('Market Segment')\n",
    "plt.show()"
   ]
  },
  {
   "cell_type": "markdown",
   "metadata": {},
   "source": [
    "### Returning Customers\n",
    "\n",
    "In an apparent deviation from the pareto principle, it seems the majority of customers at a resort are first time customers."
   ]
  },
  {
   "cell_type": "code",
   "execution_count": null,
   "metadata": {},
   "outputs": [],
   "source": [
    "print(df.is_repeated_guest.value_counts())\n",
    "\n",
    "df.is_repeated_guest.value_counts().plot(kind='pie', labels=['First Time','Returning'])\n",
    "plt.axis('equal')\n",
    "plt.title('Returning Customers')\n",
    "plt.show()"
   ]
  },
  {
   "cell_type": "markdown",
   "metadata": {},
   "source": [
    "### Reserved and Assigned Room Types\n",
    "\n",
    "The meaning of this data was retained to protect customer privacy. But large difference can be noted in the A and D types before and after final assignment."
   ]
  },
  {
   "cell_type": "code",
   "execution_count": null,
   "metadata": {},
   "outputs": [],
   "source": [
    "print(df.reserved_room_type.value_counts())\n",
    "\n",
    "df.reserved_room_type.value_counts().plot(kind='pie')\n",
    "plt.axis('equal')\n",
    "plt.title('Reseved Room Type')\n",
    "plt.show()\n",
    "\n",
    "print(df.assigned_room_type.value_counts())\n",
    "\n",
    "df.assigned_room_type.value_counts().plot(kind='pie')\n",
    "plt.axis('equal')\n",
    "plt.title('Assigned Room Type')\n",
    "plt.show()"
   ]
  },
  {
   "cell_type": "markdown",
   "metadata": {},
   "source": [
    "### Booking Changes\n",
    "\n",
    "Booking changes are not made frequently, 79.7% of bookings are not changed at all. 13.5% of bookings are changed once, 3.8% are changed twice, 1.1% are changed three times, 1.9% of bookings are changed more than three times."
   ]
  },
  {
   "cell_type": "code",
   "execution_count": null,
   "metadata": {},
   "outputs": [],
   "source": [
    "print(df.booking_changes.value_counts())\n",
    "plt.hist(df.booking_changes)\n",
    "plt.show()\n",
    "plt.hist(df['booking_changes'][df['booking_changes'] < 6])"
   ]
  },
  {
   "cell_type": "markdown",
   "metadata": {},
   "source": [
    "### Deposit Type\n",
    "\n",
    "Most bookings do not have a deposit. The few bookings that do have a deposit are almost exclusively non-refundable."
   ]
  },
  {
   "cell_type": "code",
   "execution_count": null,
   "metadata": {
    "scrolled": true
   },
   "outputs": [],
   "source": [
    "print(df.deposit_type.value_counts())\n",
    "\n",
    "df.deposit_type.value_counts().plot(kind='pie')\n",
    "plt.axis('equal')\n",
    "plt.title('Deposit Type')\n",
    "plt.show()"
   ]
  },
  {
   "cell_type": "markdown",
   "metadata": {},
   "source": [
    "### Agent\n",
    "\n",
    "80% of bookings were made through a travel agent or tour operator. Of those bookings, 43.7% came from one agent, #240. The top five agents accounted for 64% of bookings made by agent, and 51% of bookings overall. \n",
    "\n",
    "However, we must distinguish between bookings made and booings completed. As will be shown later, the average agent cancels 37% of the time.\n",
    "\n",
    "From the graphs below, we can infer that bookings made through an agents are, overall, somewaht less likely to be cancelled.\n",
    "\n",
    "An agent cancellation rate metric will be elaborated later on."
   ]
  },
  {
   "cell_type": "code",
   "execution_count": null,
   "metadata": {},
   "outputs": [],
   "source": [
    "print(df.agent.value_counts().head(10))\n",
    "print(df.self_booked.value_counts())\n",
    "\n",
    "df.self_booked.value_counts().plot(kind='pie',labels=['Booking without Agent','Bookig with Agent'])\n",
    "plt.axis('equal')\n",
    "plt.title('Method of Booking, (all bookings)')\n",
    "plt.show()\n",
    "\n",
    "df['self_booked'][df['is_canceled']==0].value_counts().plot(kind='pie',labels=['Booking without Agent','Bookig with Agent'])\n",
    "plt.axis('equal')\n",
    "plt.title('Method of Booking, (bookings not canceled)')\n",
    "plt.show()"
   ]
  },
  {
   "cell_type": "markdown",
   "metadata": {},
   "source": [
    "### Company"
   ]
  },
  {
   "cell_type": "code",
   "execution_count": null,
   "metadata": {},
   "outputs": [],
   "source": [
    "print(df.company.value_counts().head(11))\n",
    "\n",
    "df.on_business.groupby(df.on_business).value_counts().plot(kind='pie',labels=['Other/Pleasure','Business'])\n",
    "plt.axis('equal')\n",
    "plt.title('Purpose of Travel')\n",
    "plt.show()"
   ]
  },
  {
   "cell_type": "markdown",
   "metadata": {},
   "source": [
    "### Waiting List\n",
    "\n",
    "The waiting list is seldom used, only 1.15% of bookings are ever on the wait list.\n",
    "\n",
    "They occur most frequently at week 53 (New Year), week 42 and 43, (October Break?), week 47 (Thanksgiving), week 26 (beginning of summer vacation?) and 17 (Spring Break?)"
   ]
  },
  {
   "cell_type": "code",
   "execution_count": null,
   "metadata": {},
   "outputs": [],
   "source": [
    "print(df.days_in_waiting_list.value_counts().head(10))\n",
    "\n",
    "df['arrival_date_week_number'][df['days_in_waiting_list'] > 0].value_counts().head(6)"
   ]
  },
  {
   "cell_type": "markdown",
   "metadata": {},
   "source": [
    "### Customer Type\n",
    "\n",
    "Most bookings (74.5%) are stand-alone parties, 19.4% were stand-alone booking associated with other group bookings, smaller portions of bookings were associated with groups or other contracts."
   ]
  },
  {
   "cell_type": "code",
   "execution_count": null,
   "metadata": {},
   "outputs": [],
   "source": [
    "print(df.customer_type.value_counts())\n",
    "\n"
   ]
  },
  {
   "cell_type": "code",
   "execution_count": null,
   "metadata": {},
   "outputs": [],
   "source": [
    "df.customer_type.value_counts().plot(kind='pie')\n",
    "plt.axis('equal')\n",
    "plt.title('Customer Type')\n",
    "plt.show()"
   ]
  },
  {
   "cell_type": "markdown",
   "metadata": {},
   "source": [
    "### Average Daily Rate (ADR)\n",
    "\n",
    "The denomination is not given, but I think we should assume euros, it seems cheap for dollars."
   ]
  },
  {
   "cell_type": "code",
   "execution_count": null,
   "metadata": {},
   "outputs": [],
   "source": [
    "plt.hist(df.adr)\n",
    "plt.show()\n",
    "\n",
    "plt.hist(df['adr'][df['adr']<300])"
   ]
  },
  {
   "cell_type": "markdown",
   "metadata": {},
   "source": [
    "### Required Car Parking Spaces\n",
    "\n",
    "Booking with more than one required car parking space are exceedinly rare."
   ]
  },
  {
   "cell_type": "code",
   "execution_count": null,
   "metadata": {},
   "outputs": [],
   "source": [
    "df.required_car_parking_spaces.value_counts()"
   ]
  },
  {
   "cell_type": "markdown",
   "metadata": {},
   "source": [
    "### Special Requests\n",
    "\n",
    "One special request is common, more than 3 is rare."
   ]
  },
  {
   "cell_type": "code",
   "execution_count": null,
   "metadata": {},
   "outputs": [],
   "source": [
    "plt.hist(df.total_of_special_requests)"
   ]
  },
  {
   "cell_type": "markdown",
   "metadata": {},
   "source": [
    "## EDA: Multivariate Analysis"
   ]
  },
  {
   "cell_type": "markdown",
   "metadata": {},
   "source": [
    "#### Multivariate Analysis: Data Manipulation\n",
    "\n",
    "Much of the provided data is categorical and cannot be analyzed for correlation in it's current format. However, by calculating a cancellation rate for each value of each categorical variable, we can make some potentially useful features."
   ]
  },
  {
   "cell_type": "code",
   "execution_count": null,
   "metadata": {},
   "outputs": [],
   "source": [
    "#Categorical to numerical\n",
    "\n",
    "#Customer\n",
    "\n",
    "#We need to be careful not to scew too much toward cancellation, many customers likely only booked\n",
    "#once and canceled.\n",
    "\n",
    "#For all customer with 2 or more bookings, customer_cancel_score will show the percentage of their bookings that were fulfilled. Customer only one booking. will be given a score of 1.\n",
    "df['customer_cancel_score'] = np.round(np.where(df['is_repeated_guest'] > 0, df['previous_bookings_not_canceled']/(df['previous_bookings_not_canceled'] + df['previous_cancellations']), 0), 1)"
   ]
  },
  {
   "cell_type": "code",
   "execution_count": null,
   "metadata": {},
   "outputs": [],
   "source": [
    "#Other categorical variables\n",
    "\n",
    "agent_df = pd.DataFrame(df[['is_canceled','agent']].groupby('agent', as_index=False).agg('mean'))\n",
    "agent_df = agent_df.rename(index=str, columns={\"is_canceled\": \"agent_cancel_score\"})\n",
    "df = pd.merge(df,agent_df,how='left',on=['agent'])\n",
    "\n",
    "company_df = pd.DataFrame(df[['is_canceled','company']].groupby('company', as_index=False).agg('mean'))\n",
    "company_df = company_df.rename(index=str, columns={\"is_canceled\": \"company_cancel_score\"})\n",
    "df = pd.merge(df,company_df,how='left',on=['company'])\n",
    "\n",
    "country_df = pd.DataFrame(df[['is_canceled','country']].groupby('country', as_index=False).agg('mean'))\n",
    "country_df = country_df.rename(index=str, columns={\"is_canceled\": \"country_cancel_score\"})\n",
    "df = pd.merge(df,country_df,how='left',on=['country'])"
   ]
  },
  {
   "cell_type": "code",
   "execution_count": null,
   "metadata": {},
   "outputs": [],
   "source": [
    "#Demonstration:\n",
    "#Let's see what we've made!\n",
    "df[['agent','agent_cancel_score','company','company_cancel_score','country','country_cancel_score']].head(15)"
   ]
  },
  {
   "cell_type": "code",
   "execution_count": null,
   "metadata": {},
   "outputs": [],
   "source": [
    "#More variables\n",
    "distribution_channel_df = pd.DataFrame(df[['is_canceled','distribution_channel']].groupby('distribution_channel', as_index=False).agg('mean'))\n",
    "distribution_channel_df = distribution_channel_df.rename(index=str, columns={\"is_canceled\": \"distribution_channel_score\"})\n",
    "df = pd.merge(df,distribution_channel_df,how='left',on=['distribution_channel'])\n",
    "\n",
    "market_segment_df = pd.DataFrame(df[['is_canceled','market_segment']].groupby('market_segment', as_index=False).agg('mean'))\n",
    "market_segment_df = market_segment_df.rename(index=str, columns={\"is_canceled\": \"market_segment_score\"})\n",
    "df = pd.merge(df,market_segment_df,how='left',on=['market_segment']) \n",
    "\n",
    "meal_df = pd.DataFrame(df[['is_canceled','meal']].groupby('meal', as_index=False).agg('mean'))\n",
    "meal_df = meal_df.rename(index=str, columns={\"is_canceled\": \"meal_score\"})\n",
    "df = pd.merge(df,meal_df,how='left',on=['meal'])\n",
    "\n",
    "deposit_type_df = pd.DataFrame(df[['is_canceled','deposit_type']].groupby('deposit_type', as_index=False).agg('mean'))\n",
    "deposit_type_df = deposit_type_df.rename(index=str, columns={\"is_canceled\": \"deposit_score\"})\n",
    "df = pd.merge(df,deposit_type_df,how='left',on=['deposit_type'])"
   ]
  },
  {
   "cell_type": "markdown",
   "metadata": {},
   "source": [
    "### Correlation to target: is_cancelled for round one of feature selection"
   ]
  },
  {
   "cell_type": "code",
   "execution_count": null,
   "metadata": {},
   "outputs": [],
   "source": [
    "is_canceled_corr = pd.DataFrame(df.corrwith(df['is_canceled'])).sort_values(by=0, ascending=0)\n",
    "\n",
    "plt.bar(is_canceled_corr.index, height = is_canceled_corr[0])\n",
    "plt.xticks(is_canceled_corr.index, rotation='vertical', fontsize='8')\n",
    "plt.show()\n",
    "\n",
    "print(is_canceled_corr)"
   ]
  },
  {
   "cell_type": "markdown",
   "metadata": {},
   "source": [
    "# Before going on let's analyze this chart:\n",
    "\n",
    "Some of the most highly correlated features are features that were derived from the data\n",
    "manipulation done to get usable data from categorical features.\n",
    "\n",
    "The highest correlated variable are, in order:\n",
    "\n",
    "        AGENT_CANCEL_SCORE          0.346178\n",
    "    deposit_score                   0.323021\n",
    "        COUNTRY_CANCEL_SCORE        0.302156\n",
    "        MARKET_SEGMENT_SCORE        0.252172\n",
    "    required_car_parking_spaces    -0.243983\n",
    "    lead_time                       0.226453\n",
    "\n",
    "The remaining features are much less correlated to is_cancelled than these."
   ]
  },
  {
   "cell_type": "markdown",
   "metadata": {},
   "source": [
    "## Addressing Outliers"
   ]
  },
  {
   "cell_type": "code",
   "execution_count": null,
   "metadata": {},
   "outputs": [],
   "source": [
    "#Since all of the variables we have elected to include are at or above 14% corrrelation to is_cancelled\n",
    "#there is no need to analyze the others for outliers.\n",
    "column_list_one = is_canceled_corr[is_canceled_corr > 0.20].dropna().index\n",
    "column_list_two = is_canceled_corr[is_canceled_corr < -0.20].dropna().index\n",
    "\n",
    "column_list = column_list_one.append(column_list_two)\n",
    "\n",
    "#Non-ratio variables can't have outliers and must be filtered out, we will also filter out the\n",
    "#variables that we don't intend to use because of weak correlation.\n",
    "                 \n",
    "#We'll use the Tukey Interquartile Range method. \n",
    "\n",
    "for i in column_list:\n",
    "    q75, q25 = np.percentile(df[i], [75 ,25])\n",
    "    iqr = q75 - q25\n",
    "    threshold = 2\n",
    "    min_val = q25 - (iqr*threshold)\n",
    "    max_val = q75 + (iqr*threshold)\n",
    "    print(\"The score threshold for \", i, \" is: {}\".format(threshold))\n",
    "    print(\"Number of outliers is: {}\".format(\n",
    "        len((np.where((df[i] > max_val) \n",
    "            | (df[i] < min_val))[0]))\n",
    "    ))"
   ]
  },
  {
   "cell_type": "markdown",
   "metadata": {},
   "source": [
    "Do we have an outlier problem?\n",
    "\n",
    "Of the variables that we may use the following have some outliers at a threshold of 2 IQR:\n",
    "\n",
    "agent_cancel_score, deposit_score, lead_time, required_car_parking_spaces\n",
    "\n",
    "Deposit_score doesn't really have outliers. As discussed above, there are only 3 different \n",
    "values, each of importance to the model. \n",
    "\n",
    "This leaves: agent_cancel_score, lead_time, and required_car_parking_spaces"
   ]
  },
  {
   "cell_type": "markdown",
   "metadata": {},
   "source": [
    "### Agent Cancel Score\n",
    "\n",
    "Agent cancel score did not have a lot of outliers 202/39956 = 0.5%. Transforming the data to eliminate outliers did not improve correlation.\n",
    "\n",
    "I feel it is best to leave the data as it is, as agents have more and more booking with the hotel, the outliers that are of the most importance would eliminate themseles automatically."
   ]
  },
  {
   "cell_type": "code",
   "execution_count": null,
   "metadata": {
    "scrolled": true
   },
   "outputs": [],
   "source": [
    "print(df.agent_cancel_score.describe())\n",
    "\n",
    "print(df.agent_cancel_score.value_counts().head(10))\n",
    "\n",
    "#The average agent cancels about 37% of the time!\n",
    "\n",
    "#There is a small but significant number of agents who cancel more than 70% of the time.\n",
    "#We can't write them out of our analysis.\n",
    "print('corr. w/ no change:', df.is_canceled.corr(df.agent_cancel_score))\n",
    "plt.hist(df.agent_cancel_score)\n",
    "plt.show()\n",
    "\n",
    "#What does it look like transformed?\n",
    "print('corr. w/ sqrt transformation:', df.is_canceled.corr(np.sqrt(df.agent_cancel_score)))\n",
    "plt.hist(np.sqrt(df.agent_cancel_score))\n",
    "plt.show()\n",
    "\n",
    "#What about twice?\n",
    "print('corr. w/ 4thRt transformation:', df.is_canceled.corr(np.sqrt(np.sqrt(df.agent_cancel_score))))\n",
    "plt.hist(np.sqrt(np.sqrt(df.agent_cancel_score)))\n",
    "plt.show()"
   ]
  },
  {
   "cell_type": "markdown",
   "metadata": {},
   "source": [
    "### Lead Time\n",
    "\n",
    "Lead time has even fewer outliers than agent_cancel_score, with only 107/39956 or 0.26%.\n",
    "\n",
    "Transforming the data produces a higher correlation though. \n",
    "\n",
    "We can run the model later as it is, or with the transformed values."
   ]
  },
  {
   "cell_type": "code",
   "execution_count": null,
   "metadata": {},
   "outputs": [],
   "source": [
    "#Lead time is somewhat correlated and has some outliers at a threshold of 2 IQR.\n",
    "print(df.lead_time.describe())\n",
    "\n",
    "print(df.lead_time.value_counts().head(20))\n",
    "\n",
    "print('corr. w/ no change:', df.is_canceled.corr(df.lead_time))\n",
    "plt.hist(df.lead_time)\n",
    "plt.show()\n",
    "\n",
    "#Not exactly normal, but better.\n",
    "print('corr. w/ no change:', df.is_canceled.corr(np.sqrt(df.lead_time)))\n",
    "plt.hist(np.sqrt(df.lead_time))\n",
    "plt.show()\n",
    "\n",
    "#What about twice?\n",
    "\n",
    "#This one is a much more normal distribution.\n",
    "print('corr. w/ 4thRt transformation:', df.is_canceled.corr(np.sqrt(np.sqrt(df.lead_time))))\n",
    "plt.hist(np.sqrt(np.sqrt(df.lead_time)))\n",
    "plt.show()\n",
    "\n",
    "#Our correlation actually improves with the transformation. We will 4thRt. tranform lead time.\n",
    "df['tf_lead_time'] = np.sqrt(np.sqrt(df.lead_time))"
   ]
  },
  {
   "cell_type": "markdown",
   "metadata": {},
   "source": [
    "### Car Parking Spaces"
   ]
  },
  {
   "cell_type": "code",
   "execution_count": null,
   "metadata": {},
   "outputs": [],
   "source": [
    "#Required_car_parking_spaces has a few outliers,\n",
    "\n",
    "print(df.required_car_parking_spaces.value_counts())\n",
    "\n",
    "#Anything over one required space is exceedingly rare. Those values be dropped.\n",
    "df = df[df['required_car_parking_spaces']<2]"
   ]
  },
  {
   "cell_type": "markdown",
   "metadata": {},
   "source": [
    "## Outliers - Part 2\n",
    "\n",
    "The measures taken above removed all the outliers for lead time, but not much else changed. Outliers don't seem to be a problem with the chosen features though."
   ]
  },
  {
   "cell_type": "code",
   "execution_count": null,
   "metadata": {},
   "outputs": [],
   "source": [
    "is_canceled_corr = pd.DataFrame(df.corrwith(df['is_canceled'])).sort_values(by=0, ascending=0)\n",
    "\n",
    "plt.bar(is_canceled_corr.index, height = is_canceled_corr[0])\n",
    "plt.xticks(is_canceled_corr.index, rotation='vertical', fontsize='8')\n",
    "plt.show()\n",
    "\n",
    "print(is_canceled_corr)"
   ]
  },
  {
   "cell_type": "code",
   "execution_count": null,
   "metadata": {},
   "outputs": [],
   "source": [
    "#Since all of the variables we have elected to include are at or above 14% corrrelation to is_cancelled\n",
    "#there is no need to analyze the others for outliers.\n",
    "column_list_one = is_canceled_corr[is_canceled_corr > 0.20].dropna().index\n",
    "column_list_two = is_canceled_corr[is_canceled_corr < -0.20].dropna().index\n",
    "\n",
    "column_list = column_list_one.append(column_list_two)\n",
    "\n",
    "#Non-ratio variables can't have outliers and must be filtered out, we will also filter out the\n",
    "#variables that we don't intend to use because of weak correlation.\n",
    "                 \n",
    "#We'll use the Tukey Interquartile Range method. \n",
    "\n",
    "for i in column_list:\n",
    "    q75, q25 = np.percentile(df[i], [75 ,25])\n",
    "    iqr = q75 - q25\n",
    "    threshold = 2\n",
    "    min_val = q25 - (iqr*threshold)\n",
    "    max_val = q75 + (iqr*threshold)\n",
    "    print(\"The score threshold for \", i, \" is: {}\".format(threshold))\n",
    "    print(\"Number of outliers is: {}\".format(\n",
    "        len((np.where((df[i] > max_val) \n",
    "            | (df[i] < min_val))[0]))\n",
    "    ))"
   ]
  },
  {
   "cell_type": "markdown",
   "metadata": {},
   "source": [
    "## Feature Selection - Round Two"
   ]
  },
  {
   "cell_type": "code",
   "execution_count": null,
   "metadata": {},
   "outputs": [],
   "source": [
    "features_df = df[['is_canceled', 'deposit_score', 'agent_cancel_score', 'country_cancel_score', \n",
    "                  'lead_time', 'tf_lead_time', 'market_segment_score', 'required_car_parking_spaces']]"
   ]
  },
  {
   "cell_type": "markdown",
   "metadata": {},
   "source": [
    "## Collinearity\n",
    "\n",
    "We still need to make a final decision on which lead_time feature to use. There is also some strong correlation between agent_cancel_score and market_segment score."
   ]
  },
  {
   "cell_type": "code",
   "execution_count": null,
   "metadata": {
    "scrolled": true
   },
   "outputs": [],
   "source": [
    "fig, ax = plt.subplots(figsize=(10,10)) \n",
    "\n",
    "sns.heatmap(features_df.corr())\n",
    "\n",
    "features_df.corr()"
   ]
  },
  {
   "cell_type": "markdown",
   "metadata": {},
   "source": [
    "# The Models\n",
    "\n",
    "The models ran best with the original lead time data, and without counting the interaction between agent and market_segment.\n",
    "\n",
    "Random Forest produced the highest accuracy at 91%\n",
    "\n",
    "KNN Nearest Neighboor model accuracty was 88%\n",
    "\n",
    "The Decision Tree Boosting model had accuracy at 76%"
   ]
  },
  {
   "cell_type": "markdown",
   "metadata": {},
   "source": [
    "## Random Forest"
   ]
  },
  {
   "cell_type": "code",
   "execution_count": null,
   "metadata": {},
   "outputs": [],
   "source": [
    "#Random Forest Libraries\n",
    "from sklearn import ensemble\n",
    "from sklearn.model_selection import cross_val_score\n",
    "from sklearn.metrics import accuracy_score"
   ]
  },
  {
   "cell_type": "markdown",
   "metadata": {},
   "source": [
    "#### RF10 With regular lead time, no interaction between agent and market"
   ]
  },
  {
   "cell_type": "code",
   "execution_count": null,
   "metadata": {},
   "outputs": [],
   "source": [
    "rfc = ensemble.RandomForestClassifier()\n",
    "# Y is the target variable\n",
    "Y_true_RF10 = features_df['is_canceled']\n",
    "\n",
    "# X is the feature set\n",
    "X = features_df[['deposit_score','agent_cancel_score', 'country_cancel_score', 'market_segment_score', 'required_car_parking_spaces','lead_time']]\n",
    "\n",
    "cxval = cross_val_score(rfc, X, Y_true_RF10, cv=10)\n",
    "\n",
    "rfc.fit(X, Y_true_RF10)\n",
    "\n",
    "Y_pred_RF10 = rfc.predict(X)\n",
    "\n",
    "print('Accuracy Score:', accuracy_score(Y_true_RF10, Y_pred_RF10))\n",
    "print(cxval)"
   ]
  },
  {
   "cell_type": "markdown",
   "metadata": {},
   "source": [
    "#### RF11 With transformed lead time, no interaction"
   ]
  },
  {
   "cell_type": "code",
   "execution_count": null,
   "metadata": {},
   "outputs": [],
   "source": [
    "rfc = ensemble.RandomForestClassifier()\n",
    "# Y is the target variable\n",
    "Y_true = features_df['is_canceled']\n",
    "\n",
    "# X is the feature set\n",
    "X = features_df[['deposit_score','agent_cancel_score', 'country_cancel_score', 'market_segment_score', 'required_car_parking_spaces','tf_lead_time']]\n",
    "\n",
    "cxval = cross_val_score(rfc, X, Y_true, cv=10)\n",
    "\n",
    "rfc.fit(X, Y_true)\n",
    "\n",
    "Y_pred = rfc.predict(X)\n",
    "\n",
    "print('Accuracy Score:', accuracy_score(Y_true, Y_pred))\n",
    "print(cxval)"
   ]
  },
  {
   "cell_type": "markdown",
   "metadata": {},
   "source": [
    "#### RF20 With regular lead_time, and interaction between agent and market"
   ]
  },
  {
   "cell_type": "code",
   "execution_count": null,
   "metadata": {},
   "outputs": [],
   "source": [
    "features_df['agent_market_int'] = features_df['agent_cancel_score'] * features_df['market_segment_score']"
   ]
  },
  {
   "cell_type": "code",
   "execution_count": null,
   "metadata": {},
   "outputs": [],
   "source": [
    "rfc = ensemble.RandomForestClassifier()\n",
    "# Y is the target variable\n",
    "Y_true = features_df['is_canceled']\n",
    "\n",
    "# X is the feature set\n",
    "X = features_df[['deposit_score','agent_cancel_score', 'country_cancel_score', \n",
    "                 'market_segment_score', 'required_car_parking_spaces','lead_time'\n",
    "                 ,'agent_market_int']]\n",
    "\n",
    "cxval = cross_val_score(rfc, X, Y_true, cv=10)\n",
    "\n",
    "rfc.fit(X, Y_true)\n",
    "\n",
    "Y_pred = rfc.predict(X)\n",
    "\n",
    "print('Accuracy Score:', accuracy_score(Y_true, Y_pred))\n",
    "print(cxval)"
   ]
  },
  {
   "cell_type": "markdown",
   "metadata": {},
   "source": [
    "## Decision Tree Boosting"
   ]
  },
  {
   "cell_type": "code",
   "execution_count": null,
   "metadata": {},
   "outputs": [],
   "source": [
    "#Libraries\n",
    "import scipy\n",
    "from sklearn import tree\n",
    "from IPython.display import Image\n",
    "import pydotplus\n",
    "import graphviz"
   ]
  },
  {
   "cell_type": "code",
   "execution_count": null,
   "metadata": {},
   "outputs": [],
   "source": [
    "# Define outcome and predictors.\n",
    "Y_true_B10 = features_df['is_canceled']\n",
    "X = features_df[['deposit_score','agent_cancel_score', 'country_cancel_score', 'market_segment_score', 'required_car_parking_spaces','lead_time']]\n",
    "\n",
    "# Store values from loops.\n",
    "preds = pd.DataFrame()\n",
    "labels = []\n",
    "\n",
    "uniquex = df['is_canceled'].unique()\n",
    "\n",
    "# Iterate through decision trees, each time using the residuals\n",
    "# from the previous tree as the inputs.\n",
    "for m in range(0, 21):\n",
    "    \n",
    "    # Initialize and fit the tree. Set the max depth to 2.\n",
    "    decision_tree = tree.DecisionTreeClassifier(max_depth=2)\n",
    "    decision_tree.fit(X,Y_true_B10)\n",
    "    \n",
    "    # Get and store predicted values.\n",
    "    Y_pred_B10 = decision_tree.predict(X)\n",
    "    preds['pred{}'.format(m)] = Y_pred_B10\n",
    "    \n",
    "    # Residuals.\n",
    "    Y_true_B10 = Y_true_B10 - Y_pred_B10\n",
    "\n",
    "    # Output every 20 iterations.\n",
    "    if m % 20 == 0:\n",
    "        print('Weak learner {} R^2: {}'.format(m, decision_tree.score(X, Y_true_B10)))\n",
    "        labels = labels + [m]\n",
    "        bestpred = preds.sum(axis=1)\n",
    "        plt.plot(uniquex, np.poly1d(np.polyfit(df['is_canceled'], bestpred, 1))(uniquex))\n",
    "       \n",
    "plt.legend(labels)\n",
    "plt.xlabel('Original')\n",
    "plt.ylabel('Predicted')\n",
    "plt.show()\n",
    "predicted = preds.sum(axis=1)\n",
    "\n",
    "print('Accuracy Score:', accuracy_score(Y_true_B10, Y_pred_B10))"
   ]
  },
  {
   "cell_type": "markdown",
   "metadata": {},
   "source": [
    "## KNN"
   ]
  },
  {
   "cell_type": "code",
   "execution_count": null,
   "metadata": {},
   "outputs": [],
   "source": [
    "#Libraries\n",
    "from sklearn.neighbors import KNeighborsClassifier"
   ]
  },
  {
   "cell_type": "code",
   "execution_count": null,
   "metadata": {},
   "outputs": [],
   "source": [
    "neighbors = KNeighborsClassifier(n_neighbors=1)\n",
    "\n",
    "X = features_df[['deposit_score','agent_cancel_score', 'country_cancel_score', 'market_segment_score', 'required_car_parking_spaces','lead_time']]\n",
    "Y_true_K10 = features_df.is_canceled\n",
    "\n",
    "neighbors.fit(X,Y_true_K10)\n",
    "\n",
    "knn_results = cross_val_score(neighbors, X, Y_true_K10, cv=10)\n",
    "\n",
    "Y_pred_K10 = neighbors.predict(X)\n",
    "\n",
    "print('Accuracy Score:', accuracy_score(Y_true_K10, Y_pred_K10))"
   ]
  },
  {
   "cell_type": "markdown",
   "metadata": {},
   "source": [
    "## Model Evaluation"
   ]
  },
  {
   "cell_type": "code",
   "execution_count": null,
   "metadata": {},
   "outputs": [],
   "source": [
    "#Libraries\n",
    "from sklearn.metrics import confusion_matrix\n",
    "from sklearn.metrics import classification_report"
   ]
  },
  {
   "cell_type": "markdown",
   "metadata": {},
   "source": [
    "# Random Rorest"
   ]
  },
  {
   "cell_type": "code",
   "execution_count": null,
   "metadata": {},
   "outputs": [],
   "source": [
    " print(classification_report(Y_true_RF10, Y_pred_RF10))"
   ]
  },
  {
   "cell_type": "markdown",
   "metadata": {},
   "source": [
    "# Decsion Tree Boosting"
   ]
  },
  {
   "cell_type": "code",
   "execution_count": null,
   "metadata": {},
   "outputs": [],
   "source": [
    " print(classification_report(Y_true_B10, Y_pred_B10))"
   ]
  },
  {
   "cell_type": "markdown",
   "metadata": {},
   "source": [
    "# KNN"
   ]
  },
  {
   "cell_type": "code",
   "execution_count": null,
   "metadata": {},
   "outputs": [],
   "source": [
    " print(classification_report(Y_true_K10, Y_pred_K10))"
   ]
  },
  {
   "cell_type": "code",
   "execution_count": null,
   "metadata": {},
   "outputs": [],
   "source": [
    "#Writing Data to another file for use in Unsupervised Learning\n",
    "features_df.drop(columns=['tf_lead_time'])\n",
    "features_df.to_csv('processed_hotel_bookings.csv')"
   ]
  }
 ],
 "metadata": {
  "kernelspec": {
   "display_name": "Python 3",
   "language": "python",
   "name": "python3"
  },
  "language_info": {
   "codemirror_mode": {
    "name": "ipython",
    "version": 3
   },
   "file_extension": ".py",
   "mimetype": "text/x-python",
   "name": "python",
   "nbconvert_exporter": "python",
   "pygments_lexer": "ipython3",
   "version": "3.7.3"
  }
 },
 "nbformat": 4,
 "nbformat_minor": 2
}
